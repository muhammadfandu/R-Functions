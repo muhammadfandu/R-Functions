{
 "cells": [
  {
   "cell_type": "code",
   "execution_count": 1,
   "metadata": {},
   "outputs": [],
   "source": [
    "# How to make a function\n",
    "\n",
    "f1 <- function(x){\n",
    "    result <- x^2-5\n",
    "    return(result)\n",
    "}\n",
    "f2 <- function(x){\n",
    "    result <- sqrt(x)\n",
    "    return(result)\n",
    "}"
   ]
  },
  {
   "cell_type": "code",
   "execution_count": 4,
   "metadata": {},
   "outputs": [
    {
     "data": {
      "text/html": [
       "3"
      ],
      "text/latex": [
       "3"
      ],
      "text/markdown": [
       "3"
      ],
      "text/plain": [
       "[1] 3"
      ]
     },
     "metadata": {},
     "output_type": "display_data"
    }
   ],
   "source": [
    "# How to call a function\n",
    "f2(9)"
   ]
  },
  {
   "cell_type": "code",
   "execution_count": 22,
   "metadata": {},
   "outputs": [],
   "source": [
    "# Exercise\n",
    "# 1.1\n",
    "f3 <- function(x){\n",
    "    result <- x^3 + x^2 - 6\n",
    "    return(result)\n",
    "}\n",
    "\n",
    "# 1.2\n",
    "f4 <- function(a,b){\n",
    "    result <- a * b * (b - a)\n",
    "    return(result)\n",
    "}\n",
    "\n",
    "# 1.3\n",
    "f5 <- function(m,n){\n",
    "    result <- (sqrt(m)/n) + m - 2 * n\n",
    "    return(result)\n",
    "}"
   ]
  },
  {
   "cell_type": "code",
   "execution_count": 23,
   "metadata": {},
   "outputs": [
    {
     "data": {
      "text/html": [
       "1.75"
      ],
      "text/latex": [
       "1.75"
      ],
      "text/markdown": [
       "1.75"
      ],
      "text/plain": [
       "[1] 1.75"
      ]
     },
     "metadata": {},
     "output_type": "display_data"
    }
   ],
   "source": [
    "f5(9,4)"
   ]
  },
  {
   "cell_type": "code",
   "execution_count": 24,
   "metadata": {},
   "outputs": [],
   "source": [
    "# 2.1\n",
    "f6 <- function(a,b){\n",
    "    result <- (a + b) * a * b\n",
    "    return(result)\n",
    "}\n",
    "\n",
    "# 2.2\n",
    "f7 <- function(m,n){\n",
    "    result <- det(m) * n - m %*% n\n",
    "    return(result)\n",
    "}\n",
    "\n",
    "# 2.3\n",
    "f8 <- function(x){\n",
    "    result <- solve(x) * x - 2 * x\n",
    "    return(result)\n",
    "}"
   ]
  },
  {
   "cell_type": "code",
   "execution_count": 31,
   "metadata": {},
   "outputs": [
    {
     "data": {
      "text/html": [
       "<table>\n",
       "<tbody>\n",
       "\t<tr><td>9</td><td>8</td><td>4</td></tr>\n",
       "\t<tr><td>1</td><td>2</td><td>3</td></tr>\n",
       "\t<tr><td>5</td><td>6</td><td>7</td></tr>\n",
       "</tbody>\n",
       "</table>\n"
      ],
      "text/latex": [
       "\\begin{tabular}{lll}\n",
       "\t 9 & 8 & 4\\\\\n",
       "\t 1 & 2 & 3\\\\\n",
       "\t 5 & 6 & 7\\\\\n",
       "\\end{tabular}\n"
      ],
      "text/markdown": [
       "\n",
       "| 9 | 8 | 4 | \n",
       "| 1 | 2 | 3 | \n",
       "| 5 | 6 | 7 | \n",
       "\n",
       "\n"
      ],
      "text/plain": [
       "     [,1] [,2] [,3]\n",
       "[1,] 9    8    4   \n",
       "[2,] 1    2    3   \n",
       "[3,] 5    6    7   "
      ]
     },
     "metadata": {},
     "output_type": "display_data"
    },
    {
     "data": {
      "text/html": [
       "<table>\n",
       "<tbody>\n",
       "\t<tr><td>2</td><td>4</td><td>5</td></tr>\n",
       "\t<tr><td>6</td><td>8</td><td>7</td></tr>\n",
       "\t<tr><td>9</td><td>3</td><td>1</td></tr>\n",
       "</tbody>\n",
       "</table>\n"
      ],
      "text/latex": [
       "\\begin{tabular}{lll}\n",
       "\t 2 & 4 & 5\\\\\n",
       "\t 6 & 8 & 7\\\\\n",
       "\t 9 & 3 & 1\\\\\n",
       "\\end{tabular}\n"
      ],
      "text/markdown": [
       "\n",
       "| 2 | 4 | 5 | \n",
       "| 6 | 8 | 7 | \n",
       "| 9 | 3 | 1 | \n",
       "\n",
       "\n"
      ],
      "text/plain": [
       "     [,1] [,2] [,3]\n",
       "[1,] 2    4    5   \n",
       "[2,] 6    8    7   \n",
       "[3,] 9    3    1   "
      ]
     },
     "metadata": {},
     "output_type": "display_data"
    },
    {
     "data": {
      "text/html": [
       "<table>\n",
       "<tbody>\n",
       "\t<tr><td>198</td><td>384</td><td>180</td></tr>\n",
       "\t<tr><td> 42</td><td>160</td><td>210</td></tr>\n",
       "\t<tr><td>630</td><td>162</td><td> 56</td></tr>\n",
       "</tbody>\n",
       "</table>\n"
      ],
      "text/latex": [
       "\\begin{tabular}{lll}\n",
       "\t 198 & 384 & 180\\\\\n",
       "\t  42 & 160 & 210\\\\\n",
       "\t 630 & 162 &  56\\\\\n",
       "\\end{tabular}\n"
      ],
      "text/markdown": [
       "\n",
       "| 198 | 384 | 180 | \n",
       "|  42 | 160 | 210 | \n",
       "| 630 | 162 |  56 | \n",
       "\n",
       "\n"
      ],
      "text/plain": [
       "     [,1] [,2] [,3]\n",
       "[1,] 198  384  180 \n",
       "[2,]  42  160  210 \n",
       "[3,] 630  162   56 "
      ]
     },
     "metadata": {},
     "output_type": "display_data"
    },
    {
     "data": {
      "text/html": [
       "<table>\n",
       "<tbody>\n",
       "\t<tr><td>-78</td><td>-64</td><td>-45</td></tr>\n",
       "\t<tr><td> 31</td><td> 67</td><td> 62</td></tr>\n",
       "\t<tr><td> -1</td><td>-53</td><td>-62</td></tr>\n",
       "</tbody>\n",
       "</table>\n"
      ],
      "text/latex": [
       "\\begin{tabular}{lll}\n",
       "\t -78 & -64 & -45\\\\\n",
       "\t  31 &  67 &  62\\\\\n",
       "\t  -1 & -53 & -62\\\\\n",
       "\\end{tabular}\n"
      ],
      "text/markdown": [
       "\n",
       "| -78 | -64 | -45 | \n",
       "|  31 |  67 |  62 | \n",
       "|  -1 | -53 | -62 | \n",
       "\n",
       "\n"
      ],
      "text/plain": [
       "     [,1] [,2] [,3]\n",
       "[1,] -78  -64  -45 \n",
       "[2,]  31   67   62 \n",
       "[3,]  -1  -53  -62 "
      ]
     },
     "metadata": {},
     "output_type": "display_data"
    },
    {
     "data": {
      "text/html": [
       "<table>\n",
       "<tbody>\n",
       "\t<tr><td>-21.000000</td><td>-37.333333</td><td> -2.666667</td></tr>\n",
       "\t<tr><td> -1.333333</td><td>  3.166667</td><td>-11.750000</td></tr>\n",
       "\t<tr><td>-11.666667</td><td>-19.000000</td><td> -8.166667</td></tr>\n",
       "</tbody>\n",
       "</table>\n"
      ],
      "text/latex": [
       "\\begin{tabular}{lll}\n",
       "\t -21.000000 & -37.333333 &  -2.666667\\\\\n",
       "\t  -1.333333 &   3.166667 & -11.750000\\\\\n",
       "\t -11.666667 & -19.000000 &  -8.166667\\\\\n",
       "\\end{tabular}\n"
      ],
      "text/markdown": [
       "\n",
       "| -21.000000 | -37.333333 |  -2.666667 | \n",
       "|  -1.333333 |   3.166667 | -11.750000 | \n",
       "| -11.666667 | -19.000000 |  -8.166667 | \n",
       "\n",
       "\n"
      ],
      "text/plain": [
       "     [,1]       [,2]       [,3]      \n",
       "[1,] -21.000000 -37.333333  -2.666667\n",
       "[2,]  -1.333333   3.166667 -11.750000\n",
       "[3,] -11.666667 -19.000000  -8.166667"
      ]
     },
     "metadata": {},
     "output_type": "display_data"
    }
   ],
   "source": [
    "mat1 <- matrix(c(sample(1:9)),3,3,TRUE)\n",
    "mat2 <- matrix(c(sample(1:9)),3,3,TRUE)\n",
    "\n",
    "mat1\n",
    "mat2\n",
    "\n",
    "f6(mat1,mat2)\n",
    "f7(mat1,mat2)\n",
    "f8(mat1)"
   ]
  },
  {
   "cell_type": "code",
   "execution_count": 2,
   "metadata": {},
   "outputs": [
    {
     "data": {
      "image/png": "[encoded data removed]",
      "text/plain": [
       "plot without title"
      ]
     },
     "metadata": {},
     "output_type": "display_data"
    }
   ],
   "source": [
    "# Constant Functions\n",
    "f9 <- function(x){\n",
    "    fx <- 17\n",
    "    return(fx)\n",
    "}\n",
    "\n",
    "input <- 0:20\n",
    "plot(input,\n",
    "    sapply(input,f9),\n",
    "    type = \"l\", \n",
    "    xlab = \"x\",\n",
    "    ylab = \" f(x)\")"
   ]
  },
  {
   "cell_type": "code",
   "execution_count": 6,
   "metadata": {},
   "outputs": [
    {
     "data": {
      "image/png": "[encoded data removed]",
      "text/plain": [
       "plot without title"
      ]
     },
     "metadata": {},
     "output_type": "display_data"
    }
   ],
   "source": [
    "# Linear Functions\n",
    "f10 <- function(x){\n",
    "    fx <- 2 * x + 5\n",
    "    return(fx)\n",
    "}\n",
    "\n",
    "input <- -5:15\n",
    "plot(input,\n",
    "    sapply(input,f10),\n",
    "    type = \"l\", \n",
    "    xlab = \"x\",\n",
    "    ylab = \" f(x)\")"
   ]
  },
  {
   "cell_type": "code",
   "execution_count": 8,
   "metadata": {},
   "outputs": [
    {
     "data": {
      "image/png": "[encoded data removed]",
      "text/plain": [
       "plot without title"
      ]
     },
     "metadata": {},
     "output_type": "display_data"
    }
   ],
   "source": [
    "# Quadratic Functions\n",
    "f11 <- function(x){\n",
    "    #a = 2, b = 3, c = 9\n",
    "    fx <- 2*x^2 + 3*x + 9\n",
    "    return(fx)\n",
    "}\n",
    "\n",
    "input <- -20:20\n",
    "plot(input,\n",
    "    sapply(input,f11),\n",
    "    type = \"l\", \n",
    "    xlab = \"x\",\n",
    "    ylab = \" f(x)\")"
   ]
  },
  {
   "cell_type": "code",
   "execution_count": 12,
   "metadata": {},
   "outputs": [
    {
     "data": {
      "image/png": "[encoded data removed]",
      "text/plain": [
       "plot without title"
      ]
     },
     "metadata": {},
     "output_type": "display_data"
    }
   ],
   "source": [
    "# Polynomial Functions\n",
    "f12 <- function(x){\n",
    "    # fx <- x^3 - 3 * x^2 + x - 1\n",
    "    # f(x) = (x-3)(x-2)(x-1)(x)(x+1)(x+2)(x+3) \n",
    "    # fx <- (x-3) * (x-2) * (x-1) * x * (x+1)* (x+2) * (x+3)\n",
    "    # f(x) = 1/4(x&3 - 4x^2 + x) + 12\n",
    "    fx <- ((1 / 4) * (x^3 - 4 * x^2 + x)) + 12\n",
    "    return(fx)\n",
    "}\n",
    "\n",
    "input <- seq(-10,11,0.1)\n",
    "plot(input,\n",
    "    sapply(input,f12),\n",
    "    type = \"l\", \n",
    "    xlab = \"x\",\n",
    "    ylab = \" f(x)\")"
   ]
  },
  {
   "cell_type": "code",
   "execution_count": 9,
   "metadata": {},
   "outputs": [
    {
     "data": {
      "image/png": "[encoded data removed]",
      "text/plain": [
       "plot without title"
      ]
     },
     "metadata": {},
     "output_type": "display_data"
    }
   ],
   "source": [
    "# Rational Functions\n",
    "f13 <- function(x){\n",
    "    fx <- 3/x\n",
    "    return(fx)\n",
    "}\n",
    "\n",
    "input <- seq(1,10,0.1)\n",
    "plot(input,\n",
    "    sapply(input,f13),\n",
    "    type = \"l\", \n",
    "    xlab = \"x\",\n",
    "    ylab = \" f(x)\")"
   ]
  },
  {
   "cell_type": "code",
   "execution_count": 45,
   "metadata": {},
   "outputs": [
    {
     "data": {
      "image/png": "[encoded data removed]",
      "text/plain": [
       "plot without title"
      ]
     },
     "metadata": {},
     "output_type": "display_data"
    }
   ],
   "source": [
    "# Exercise\n",
    "# 1\n",
    "f14 <- function(x){\n",
    "    fx <- sin(x)\n",
    "    return(fx)\n",
    "}\n",
    "\n",
    "input <- seq(0,10,0.1)\n",
    "plot(input,\n",
    "    sapply(input,f14),\n",
    "    type=\"l\",\n",
    "    xlab = \"x\",\n",
    "    ylab = \"f(x) = sin(x)\")"
   ]
  },
  {
   "cell_type": "code",
   "execution_count": 46,
   "metadata": {},
   "outputs": [
    {
     "data": {
      "image/png": "[encoded data removed]",
      "text/plain": [
       "plot without title"
      ]
     },
     "metadata": {},
     "output_type": "display_data"
    }
   ],
   "source": [
    "# Exercise\n",
    "# 2\n",
    "f15 <- function(x){\n",
    "    fx <- log(x)\n",
    "    return(fx)\n",
    "}\n",
    "\n",
    "input <- seq(0,10,0.1)\n",
    "plot(input,\n",
    "    sapply(input,f15),\n",
    "    type=\"l\",\n",
    "    xlab = \"x\",\n",
    "    ylab = \"f(x) = log(x)\")"
   ]
  },
  {
   "cell_type": "code",
   "execution_count": 47,
   "metadata": {},
   "outputs": [
    {
     "data": {
      "image/png": "[encoded data removed]",
      "text/plain": [
       "plot without title"
      ]
     },
     "metadata": {},
     "output_type": "display_data"
    }
   ],
   "source": [
    "# Exercise\n",
    "# 3\n",
    "f16 <- function(x){\n",
    "    fx <- sqrt(x) - 2\n",
    "    return(fx)\n",
    "}\n",
    "\n",
    "input <- seq(0,10,0.1)\n",
    "plot(input,\n",
    "    sapply(input,f16),\n",
    "    type=\"l\",\n",
    "    xlab = \"x\",\n",
    "    ylab = \"f(x)\")"
   ]
  },
  {
   "cell_type": "code",
   "execution_count": 60,
   "metadata": {},
   "outputs": [
    {
     "data": {
      "image/png": "[encoded data removed]",
      "text/plain": [
       "plot without title"
      ]
     },
     "metadata": {},
     "output_type": "display_data"
    }
   ],
   "source": [
    "# Exercise\n",
    "# 4\n",
    "f17 <- function(x){\n",
    "    x = x - 2\n",
    "    fx <- sqrt(x)\n",
    "    return(fx)\n",
    "}\n",
    "\n",
    "input <- seq(2, 10, 0.1)\n",
    "plot(input,\n",
    "    sapply(input,f17),\n",
    "    type=\"l\",\n",
    "    xlab = \"x\",\n",
    "    ylab = \"f(x)\")"
   ]
  }
 ],
 "metadata": {
  "kernelspec": {
   "display_name": "R",
   "language": "R",
   "name": "ir"
  },
  "language_info": {
   "codemirror_mode": "r",
   "file_extension": ".r",
   "mimetype": "text/x-r-source",
   "name": "R",
   "pygments_lexer": "r",
   "version": "3.4.3"
  }
 },
 "nbformat": 4,
 "nbformat_minor": 2
}
